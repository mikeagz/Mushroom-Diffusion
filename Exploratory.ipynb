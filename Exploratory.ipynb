{
 "cells": [
  {
   "cell_type": "code",
   "execution_count": 1,
   "metadata": {},
   "outputs": [],
   "source": [
    "import glob\n",
    "import matplotlib.pyplot as plt"
   ]
  },
  {
   "cell_type": "code",
   "execution_count": 2,
   "metadata": {},
   "outputs": [
    {
     "name": "stdout",
     "output_type": "stream",
     "text": [
      "Num files: 6714\n"
     ]
    }
   ],
   "source": [
    "files=glob.glob(\"data/raw/Mushrooms/*/*.*\",recursive=True)\n",
    "print(f\"Num files: {len(files)}\")"
   ]
  },
  {
   "cell_type": "code",
   "execution_count": 5,
   "metadata": {},
   "outputs": [],
   "source": [
    "import os\n",
    "\n",
    "lista_clases = [nombre for nombre in os.listdir(\"data/raw/Mushrooms\") if os.path.isdir(os.path.join(\"data/raw/Mushrooms\", nombre))]"
   ]
  },
  {
   "cell_type": "code",
   "execution_count": 11,
   "metadata": {},
   "outputs": [
    {
     "name": "stdout",
     "output_type": "stream",
     "text": [
      "Agaricus:353\n",
      "Boletus:1073\n",
      "Suillus:311\n",
      "Amanita:750\n",
      "Russula:1148\n",
      "Entoloma:364\n",
      "Cortinarius:836\n",
      "Lactarius:1563\n",
      "Hygrocybe:316\n"
     ]
    }
   ],
   "source": [
    "for nombre in os.listdir(\"data/raw/Mushrooms\"):\n",
    "    if os.path.isdir(os.path.join(\"data/raw/Mushrooms\", nombre)):\n",
    "        path=os.path.join(\"data/raw/Mushrooms\", nombre)\n",
    "        files=glob.glob(path+\"/*.*\")\n",
    "        print(f\"{nombre}:{len(files)}\")"
   ]
  },
  {
   "cell_type": "markdown",
   "metadata": {},
   "source": [
    "Seleccionaré solo a Russula y Lactarius"
   ]
  },
  {
   "cell_type": "code",
   "execution_count": null,
   "metadata": {},
   "outputs": [],
   "source": []
  }
 ],
 "metadata": {
  "kernelspec": {
   "display_name": "deep_l_04",
   "language": "python",
   "name": "python3"
  },
  "language_info": {
   "codemirror_mode": {
    "name": "ipython",
    "version": 3
   },
   "file_extension": ".py",
   "mimetype": "text/x-python",
   "name": "python",
   "nbconvert_exporter": "python",
   "pygments_lexer": "ipython3",
   "version": "3.9.18"
  }
 },
 "nbformat": 4,
 "nbformat_minor": 2
}
